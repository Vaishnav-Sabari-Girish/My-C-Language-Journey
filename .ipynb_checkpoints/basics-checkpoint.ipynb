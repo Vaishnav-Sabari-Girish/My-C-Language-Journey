{
 "cells": [
  {
   "cell_type": "markdown",
   "execution_count": 0,
   "id": "380cbe25",
   "metadata": {
    "jupyter": {
     "source_hidden": false
    }
   },
   "outputs": [
    {
     "name": "stderr",
     "output_type": "stream",
     "text": "/tmp/tmpbgajr8zb.out: /tmp/tmpe3_b5xbp.out: undefined symbol: main\n"
    },
    {
     "name": "stderr",
     "output_type": "stream",
     "text": "[C kernel] Executable exited with code 1"
    }
   ],
   "source": [
    "# Basics of C"
   ]
  },
  {
   "cell_type": "markdown",
   "id": "d99effa5",
   "metadata": {
    "collapsed": false,
    "jupyter": {
     "outputs_hidden": false,
     "source_hidden": false
    }
   },
   "source": [
    "## Hello World"
   ]
  },
  {
   "cell_type": "code",
   "execution_count": 0,
   "id": "10d2513e",
   "metadata": {
    "collapsed": false,
    "jupyter": {
     "outputs_hidden": false
    }
   },
   "outputs": [
    {
     "name": "stdout",
     "output_type": "stream",
     "text": [
      "Hello World\n"
     ]
    },
    {
     "name": "stderr",
     "output_type": "stream",
     "text": [
      "/tmp/tmp3fpcnuzf.out: /tmp/tmpszcje2zm.out: undefined symbol: main\n"
     ]
    },
    {
     "name": "stderr",
     "output_type": "stream",
     "text": [
      "[C kernel] Executable exited with code 1"
     ]
    }
   ],
   "source": [
    "#include <stdio.h>\n",
    "\n",
    "int main(){\n",
    "    printf(\"Hello World\\n\");\n",
    "}"
   ]
  },
  {
   "cell_type": "markdown",
   "id": "80a83f9c",
   "metadata": {
    "jupyter": {
     "source_hidden": false
    }
   },
   "source": [
    "## Variables"
   ]
  },
  {
   "cell_type": "code",
   "execution_count": 3,
   "id": "91251af8",
   "metadata": {
    "collapsed": false,
    "jupyter": {
     "outputs_hidden": false,
     "source_hidden": false
    }
   },
   "outputs": [
    {
     "name": "stdout",
     "output_type": "stream",
     "text": [
      "Integer variable a: 10\n",
      "Float variable b: 25.200001\n",
      "Integer variable c: 10.034000\n",
      "Integer variable d: d\n"
     ]
    }
   ],
   "source": [
    "#include <stdio.h>\n",
    "int main(){\n",
    "    int a = 10;   //Integer\n",
    "    float b = 25.2;  //Floating point\n",
    "    double c = 10.034;  //Double\n",
    "    char d = 'd';\n",
    "    \n",
    "    printf(\"Integer variable a: %d\\n\", a);\n",
    "    printf(\"Float variable b: %f\\n\", b);\n",
    "    printf(\"Integer variable c: %lf\\n\", c);\n",
    "    printf(\"Integer variable d: %c\\n\", d);    \n",
    "}"
   ]
  },
  {
   "cell_type": "code",
   "execution_count": null,
   "id": "4ee25413",
   "metadata": {},
   "outputs": [],
   "source": []
  }
 ],
 "metadata": {
  "kernelspec": {
   "display_name": "C",
   "language": "c",
   "name": "c"
  },
  "language_info": {
   "file_extension": ".c",
   "mimetype": "text/plain",
   "name": "c"
  },
  "widgets": {
   "application/vnd.jupyter.widget-state+json": {
    "state": {},
    "version_major": 2,
    "version_minor": 0
   }
  }
 },
 "nbformat": 4,
 "nbformat_minor": 5
}
