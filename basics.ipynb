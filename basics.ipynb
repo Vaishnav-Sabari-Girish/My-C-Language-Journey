{
 "cells": [
  {
   "cell_type": "markdown",
   "execution_count": 0,
   "id": "380cbe25",
   "metadata": {
    "jupyter": {
     "source_hidden": false
    }
   },
   "outputs": [
    {
     "name": "stderr",
     "output_type": "stream",
     "text": "/tmp/tmpda9a890c.out: /tmp/tmpwm3or450.out: undefined symbol: main\n"
    },
    {
     "name": "stderr",
     "output_type": "stream",
     "text": "[C kernel] Executable exited with code 1"
    },
    {
     "name": "stderr",
     "output_type": "stream",
     "text": "/tmp/tmp1ld2trx3.out: /tmp/tmpa2vc0kt4.out: undefined symbol: main\n"
    },
    {
     "name": "stderr",
     "output_type": "stream",
     "text": "[C kernel] Executable exited with code 1"
    },
    {
     "name": "stderr",
     "output_type": "stream",
     "text": "/tmp/tmpsz2bvys4.out: /tmp/tmptgts4b59.out: undefined symbol: main\n"
    },
    {
     "name": "stderr",
     "output_type": "stream",
     "text": "[C kernel] Executable exited with code 1"
    },
    {
     "name": "stderr",
     "output_type": "stream",
     "text": "/tmp/tmpv4c6g6e8.out: /tmp/tmp12umtr95.out: undefined symbol: main\n"
    },
    {
     "name": "stderr",
     "output_type": "stream",
     "text": "[C kernel] Executable exited with code 1"
    },
    {
     "name": "stderr",
     "output_type": "stream",
     "text": "/tmp/tmpqs1ee_n2.out: /tmp/tmpo_wry3t6.out: undefined symbol: main\n"
    },
    {
     "name": "stderr",
     "output_type": "stream",
     "text": "[C kernel] Executable exited with code 1"
    },
    {
     "name": "stderr",
     "output_type": "stream",
     "text": "/tmp/tmp099m9lox.out: /tmp/tmpxu6mthjy.out: undefined symbol: main\n"
    },
    {
     "name": "stderr",
     "output_type": "stream",
     "text": "[C kernel] Executable exited with code 1"
    }
   ],
   "source": [
    "# Basics of C"
   ]
  },
  {
   "cell_type": "markdown",
   "id": "d99effa5",
   "metadata": {
    "collapsed": false,
    "jupyter": {
     "outputs_hidden": false,
     "source_hidden": false
    }
   },
   "source": [
    "## Hello World"
   ]
  },
  {
   "cell_type": "code",
   "execution_count": 1,
   "id": "10d2513e",
   "metadata": {
    "collapsed": false,
    "jupyter": {
     "outputs_hidden": false
    }
   },
   "outputs": [
    {
     "name": "stdout",
     "output_type": "stream",
     "text": [
      "Hello World\n"
     ]
    }
   ],
   "source": [
    "#include <stdio.h>\n",
    "\n",
    "int main(){\n",
    "    printf(\"Hello World\\n\");\n",
    "}"
   ]
  },
  {
   "cell_type": "markdown",
   "id": "80a83f9c",
   "metadata": {
    "jupyter": {
     "source_hidden": false
    }
   },
   "source": [
    "## Variables"
   ]
  },
  {
   "cell_type": "code",
   "execution_count": 2,
   "id": "91251af8",
   "metadata": {
    "collapsed": false,
    "jupyter": {
     "outputs_hidden": false,
     "source_hidden": false
    }
   },
   "outputs": [],
   "source": [
    "#include <stdio.h>\n",
    "int main(){\n",
    "    int a = 10;   //Integer\n",
    "    float b = 25.2;  //Floating point\n",
    "    double c = 10.034;  //Double\n",
    "    char d = 'd';\n",
    "    \n",
    "    printf(\"Integer variable a: %d\\n\", a);\n",
    "    printf(\"Float variable b: %f\\n\", b);\n",
    "    printf(\"Integer variable c: %lf\\n\", c);\n",
    "    printf(\"Integer variable d: %c\\n\", d);    \n",
    "}"
   ]
  },
  {
   "cell_type": "markdown",
   "id": "4ee25413",
   "metadata": {
    "jupyter": {
     "source_hidden": false
    }
   },
   "source": [
    "## Creating custom variable types"
   ]
  },
  {
   "cell_type": "markdown",
   "id": "3b992346",
   "metadata": {
    "jupyter": {
     "source_hidden": false
    }
   },
   "source": [
    "Using `typedef`"
   ]
  },
  {
   "cell_type": "code",
   "execution_count": 3,
   "id": "5c61772f",
   "metadata": {
    "collapsed": false,
    "jupyter": {
     "outputs_hidden": false,
     "source_hidden": false
    }
   },
   "outputs": [
    {
     "name": "stdout",
     "output_type": "stream",
     "text": [
      "The values of variables of custom type uint16_t are: \n",
      "x: 40\n",
      "y: 60"
     ]
    }
   ],
   "source": [
    "#include <stdio.h>\n",
    "\n",
    "int main(){\n",
    "    typedef unsigned int uint16_t;   //typedef <ANSI TYPE NAME> <CUSTOM NAME>\n",
    "    \n",
    "    uint16_t x, y;\n",
    "    \n",
    "    x = 40;\n",
    "    y = 60;\n",
    "    \n",
    "    printf(\"The values of variables of custom type uint16_t are: \\n\");\n",
    "    printf(\"x: %d\\ny: %d\", x, y);\n",
    "}"
   ]
  },
  {
   "cell_type": "markdown",
   "id": "45e32067",
   "metadata": {
    "jupyter": {
     "source_hidden": false
    }
   },
   "source": [
    "## Header File (To store variables)"
   ]
  },
  {
   "cell_type": "markdown",
   "id": "7ac74036",
   "metadata": {
    "collapsed": false,
    "jupyter": {
     "outputs_hidden": false,
     "source_hidden": false
    }
   },
   "source": [
    "Checkout the C file (Not working in jupyter notebook)"
   ]
  },
  {
   "cell_type": "markdown",
   "id": "cce10cc2",
   "metadata": {
    "collapsed": false,
    "jupyter": {
     "outputs_hidden": false,
     "source_hidden": false
    }
   },
   "source": [
    "Path to C file: "
   ]
  },
  {
   "cell_type": "markdown",
   "id": "c2f9fda3",
   "metadata": {
    "collapsed": false,
    "jupyter": {
     "outputs_hidden": false,
     "source_hidden": false
    }
   },
   "source": [
    "[Custom header file C program](programs/custom_header_file/custom_header_file.c)"
   ]
  },
  {
   "cell_type": "markdown",
   "id": "737e7a3b",
   "metadata": {
    "jupyter": {
     "source_hidden": false
    }
   },
   "source": [
    "## Literals and Constants"
   ]
  },
  {
   "cell_type": "markdown",
   "id": "32707e08",
   "metadata": {
    "jupyter": {
     "source_hidden": false
    }
   },
   "source": [
    "### Literals"
   ]
  },
  {
   "cell_type": "markdown",
   "id": "fe3e9779",
   "metadata": {
    "jupyter": {
     "source_hidden": false
    }
   },
   "source": [
    "It is a number, character or string which may be assigned to a constant or variable. \n",
    "They are hard-coded values and are always represented by that value. "
   ]
  },
  {
   "cell_type": "markdown",
   "id": "fc0af772",
   "metadata": {
    "jupyter": {
     "source_hidden": false
    }
   },
   "source": [
    "### Constants"
   ]
  },
  {
   "cell_type": "markdown",
   "id": "1965b38b",
   "metadata": {
    "jupyter": {
     "source_hidden": false
    }
   },
   "source": [
    "Constants represent literals"
   ]
  },
  {
   "cell_type": "code",
   "execution_count": 4,
   "id": "f16398e8",
   "metadata": {
    "collapsed": false,
    "jupyter": {
     "outputs_hidden": false,
     "source_hidden": false
    }
   },
   "outputs": [],
   "source": [
    "#include <stdio.h>\n",
    "\n",
    "#define b 2\n",
    "const int c = 4;   //Constant = c, literal = 4\n",
    "\n",
    "int main(){\n",
    "    int a = 5;\n",
    "    a = b + c;\n",
    "}"
   ]
  },
  {
   "cell_type": "markdown",
   "id": "f57bf599",
   "metadata": {
    "jupyter": {
     "source_hidden": false
    }
   },
   "source": [
    "## Types of Literals"
   ]
  },
  {
   "cell_type": "markdown",
   "id": "985f7a45",
   "metadata": {
    "jupyter": {
     "source_hidden": false
    }
   },
   "source": [
    "1. Integers\n",
    "    1. Decimal Integer values\n",
    "    2. Hexadecimal Integer values\n",
    "    3. Binary Values\n",
    "2. Characters\n",
    "3. Float\n",
    "4. Strings"
   ]
  },
  {
   "cell_type": "code",
   "execution_count": 5,
   "id": "d30c4ba2",
   "metadata": {
    "collapsed": false,
    "jupyter": {
     "outputs_hidden": false,
     "source_hidden": false
    }
   },
   "outputs": [
    {
     "name": "stdout",
     "output_type": "stream",
     "text": [
      "Integer values: \n",
      "a: 10\n",
      "Hexadecimal: BEEF\n",
      "Binary: 1011\n",
      "\n",
      "Float Values: \n",
      "Without Exponent: 10.340000\n",
      "With Exponent: 1.245000e-09\n",
      "With letter 'f': 10.200000"
     ]
    }
   ],
   "source": [
    "#include <stdio.h>\n",
    "#include <stdlib.h>\n",
    "\n",
    "int main(){\n",
    "    int a = 10; //Decimal Integer\n",
    "    int hex = 0xBEEF;  //Hexadecimal Integer\n",
    "    int bin = 0b1011; //Binary\n",
    "    \n",
    "    //Floating point\n",
    "    float without_exp = 10.34;  //Without exp \n",
    "    float with_exp = 12.45e-10;  //With Exp \n",
    "    float b = 10.2f;    //Also valid \n",
    "    \n",
    "    printf(\"Integer values: \\na: %d\\nHexadecimal: %X\\nBinary: %b\\n\", a, hex, bin);\n",
    "    printf(\"\\nFloat Values: \\nWithout Exponent: %f\\nWith Exponent: %e\\nWith letter \\'f\\': %f\", without_exp, with_exp, b);\n",
    "        \n",
    "}"
   ]
  },
  {
   "cell_type": "markdown",
   "id": "965a9363",
   "metadata": {
    "jupyter": {
     "source_hidden": false
    }
   },
   "source": [
    "#### Defining Literal qualifiers"
   ]
  },
  {
   "cell_type": "code",
   "execution_count": 6,
   "id": "aa20d899",
   "metadata": {
    "collapsed": false,
    "jupyter": {
     "outputs_hidden": false,
     "source_hidden": false
    }
   },
   "outputs": [
    {
     "name": "stdout",
     "output_type": "stream",
     "text": [
      "Signed int literal: 32000\n",
      "Unsigned int literal: 32000\n",
      "Float literal: 123.456001\n"
     ]
    }
   ],
   "source": [
    "#include <stdio.h>\n",
    "\n",
    "#define a 32000    //Will require 64 bits to store as it is a signed int\n",
    "#define b 32000U   //Will require only 16 bit sto store as it is an unsigned int \n",
    "#define c 123.456F //Float\n",
    "\n",
    "int main(){\n",
    "    printf(\"Signed int literal: %d\\nUnsigned int literal: %d\\nFloat literal: %f\\n\", a, b, c);\n",
    "}"
   ]
  },
  {
   "cell_type": "markdown",
   "id": "9b5cfcf4",
   "metadata": {
    "jupyter": {
     "source_hidden": false
    }
   },
   "source": [
    "## Character Literals"
   ]
  },
  {
   "cell_type": "markdown",
   "id": "2bc86e55",
   "metadata": {
    "jupyter": {
     "source_hidden": false
    }
   },
   "source": [
    "Single characters contained withing `''`"
   ]
  },
  {
   "cell_type": "markdown",
   "id": "28845468",
   "metadata": {
    "jupyter": {
     "source_hidden": false
    }
   },
   "source": [
    "## String Literals"
   ]
  },
  {
   "cell_type": "markdown",
   "id": "709e485b",
   "metadata": {
    "jupyter": {
     "source_hidden": false
    }
   },
   "source": [
    "Contained within `\"\"`\n",
    "Automatically terminated with null (\\0)"
   ]
  },
  {
   "cell_type": "code",
   "execution_count": 7,
   "id": "4848bf3c",
   "metadata": {
    "collapsed": false,
    "jupyter": {
     "outputs_hidden": false,
     "source_hidden": false
    }
   },
   "outputs": [
    {
     "name": "stdout",
     "output_type": "stream",
     "text": [
      "Character literal: a\n",
      "String literal: Hello there, Nice to meet you\n",
      "\n"
     ]
    }
   ],
   "source": [
    "#include <stdio.h>\n",
    "\n",
    "int main(){\n",
    "    char char_literal = 'a';\n",
    "    char str_literal[] = \"Hello there, Nice to meet you\\n\";\n",
    "    \n",
    "    printf(\"Character literal: %c\\n\", char_literal);\n",
    "    printf(\"String literal: %s\\n\", str_literal);\n",
    "}"
   ]
  },
  {
   "cell_type": "markdown",
   "id": "fa2092cc",
   "metadata": {
    "jupyter": {
     "source_hidden": false
    }
   },
   "source": [
    "# QUIZ"
   ]
  },
  {
   "cell_type": "code",
   "execution_count": 8,
   "id": "b29ee075",
   "metadata": {
    "collapsed": false,
    "jupyter": {
     "outputs_hidden": false
    }
   },
   "outputs": [],
   "source": [
    "#include <stdio.h>\n",
    "\n",
    "int main(){\n",
    "    int a = 5; \n",
    "    int b = 2;\n",
    "    \n",
    "    float c;\n",
    "    \n",
    "    c = a/b;\n",
    "    \n",
    "    printf(\"%f\\n\", c);\n",
    "}"
   ]
  },
  {
   "cell_type": "markdown",
   "id": "3c3e4889",
   "metadata": {
    "jupyter": {
     "source_hidden": false
    }
   },
   "source": [
    "## Type Conversion"
   ]
  },
  {
   "cell_type": "code",
   "execution_count": 9,
   "id": "da9ec91b",
   "metadata": {
    "collapsed": false,
    "jupyter": {
     "outputs_hidden": false
    }
   },
   "outputs": [
    {
     "name": "stdout",
     "output_type": "stream",
     "text": [
      "Answer: 2.500000"
     ]
    }
   ],
   "source": [
    "#include <stdio.h>\n",
    "\n",
    "int x = 5; \n",
    "float y = 2;\n",
    "float answer;\n",
    "\n",
    "int main(){\n",
    "    answer = x/y;    //x temporarily becomes a float as float is higher than int\n",
    "    \n",
    "    printf(\"Answer: %f\", answer);\n",
    "}"
   ]
  },
  {
   "cell_type": "markdown",
   "id": "66129470",
   "metadata": {
    "jupyter": {
     "source_hidden": false
    }
   },
   "source": [
    "### Datatype Hierarchy"
   ]
  },
  {
   "cell_type": "markdown",
   "id": "a8403cdd",
   "metadata": {
    "jupyter": {
     "source_hidden": false
    }
   },
   "source": [
    "![Datatype Hierarchy](datatype_hierarchy.png)"
   ]
  },
  {
   "cell_type": "markdown",
   "id": "6a76872a",
   "metadata": {
    "collapsed": false,
    "jupyter": {
     "outputs_hidden": false,
     "source_hidden": false
    }
   },
   "source": [
    "## A simple trick for relational operators"
   ]
  },
  {
   "cell_type": "code",
   "execution_count": 10,
   "id": "71ed3ed4",
   "metadata": {
    "collapsed": false,
    "jupyter": {
     "outputs_hidden": false,
     "source_hidden": false
    }
   },
   "outputs": [
    {
     "name": "stderr",
     "output_type": "stream",
     "text": [
      "/tmp/tmpgns5l_e8.c: In function ‘main’:\n",
      "/tmp/tmpgns5l_e8.c:16:11: error: lvalue required as left operand of assignment\n",
      "   16 |     if(10 = x){                                //Will give error\n",
      "      |           ^\n"
     ]
    },
    {
     "name": "stderr",
     "output_type": "stream",
     "text": [
      "[C kernel] GCC exited with code 1, the executable will not be executed"
     ]
    }
   ],
   "source": [
    "#include <stdio.h>\n",
    "\n",
    "int main(){\n",
    "    int x = 10;\n",
    "    \n",
    "    if(x == 10){\n",
    "        printf(\"x equals 10\\n\");\n",
    "    }\n",
    "    if(x = 10){                                  //Will not give error\n",
    "        printf(\"x equals 10 2\\n\");\n",
    "    }\n",
    "    \n",
    "    if(10 == x){\n",
    "        printf(\"x equals 10 3\\n\");\n",
    "    }\n",
    "    if(10 = x){                                //Will give error\n",
    "        printf(\"x equals 10 4\\n\");\n",
    "    }\n",
    "}"
   ]
  },
  {
   "cell_type": "markdown",
   "id": "44325edc",
   "metadata": {
    "collapsed": false,
    "jupyter": {
     "outputs_hidden": false,
     "source_hidden": false
    }
   },
   "source": [
    "## Bit shifting"
   ]
  },
  {
   "cell_type": "code",
   "execution_count": 2,
   "id": "6de9fe0f",
   "metadata": {
    "collapsed": false,
    "jupyter": {
     "outputs_hidden": false,
     "source_hidden": false
    }
   },
   "outputs": [
    {
     "name": "stdout",
     "output_type": "stream",
     "text": [
      "Left Shifted by 2 bits: 10110000\n",
      "Right shifted by 2 bits: 1011\n"
     ]
    }
   ],
   "source": [
    "#include <stdio.h>\n",
    "\n",
    "int main(){\n",
    "    int x = 0b00101100;\n",
    "    \n",
    "    printf(\"Left Shifted by 2 bits: %b\\n\", x << 2);\n",
    "    printf(\"Right shifted by 2 bits: %b\\n\", x >> 2);\n",
    "}"
   ]
  },
  {
   "cell_type": "markdown",
   "id": "108b4156",
   "metadata": {
    "jupyter": {
     "source_hidden": false
    }
   },
   "source": [
    "## Multiplication and division using bit shifting"
   ]
  },
  {
   "cell_type": "code",
   "execution_count": 5,
   "id": "ac97a204",
   "metadata": {
    "collapsed": false,
    "jupyter": {
     "outputs_hidden": false,
     "source_hidden": false
    }
   },
   "outputs": [
    {
     "name": "stdout",
     "output_type": "stream",
     "text": [
      "Product: 40\n",
      "Quotient: 1.000000\n"
     ]
    }
   ],
   "source": [
    "#include <stdio.h>\n",
    "\n",
    "int main(){\n",
    "    int x = 5;\n",
    "    int mul_out = x << 3;   //Same as x * 2^3 or x*8\n",
    "    float div_out = x >> 2;  //Same as x/2^2 or x/2\n",
    "    \n",
    "    printf(\"Product: %d\\n\", mul_out);\n",
    "    printf(\"Quotient: %f\\n\", div_out);\n",
    "}"
   ]
  },
  {
   "cell_type": "code",
   "execution_count": null,
   "id": "15787f9e",
   "metadata": {},
   "outputs": [],
   "source": []
  }
 ],
 "metadata": {
  "kernelspec": {
   "display_name": "C",
   "language": "c",
   "name": "c"
  },
  "language_info": {
   "file_extension": ".c",
   "mimetype": "text/plain",
   "name": "c"
  },
  "widgets": {
   "application/vnd.jupyter.widget-state+json": {
    "state": {},
    "version_major": 2,
    "version_minor": 0
   }
  }
 },
 "nbformat": 4,
 "nbformat_minor": 5
}
